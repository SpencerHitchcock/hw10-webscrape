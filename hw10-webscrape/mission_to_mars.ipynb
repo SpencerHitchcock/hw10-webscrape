{
 "cells": [
  {
   "cell_type": "code",
   "execution_count": null,
   "metadata": {},
   "outputs": [],
   "source": [
    "from splinter import Browser\n",
    "from bs4 import BeautifulSoup as bs\n",
    "import pandas as pd"
   ]
  },
  {
   "cell_type": "code",
   "execution_count": null,
   "metadata": {},
   "outputs": [],
   "source": [
    "!which chromedriver"
   ]
  },
  {
   "cell_type": "code",
   "execution_count": null,
   "metadata": {},
   "outputs": [],
   "source": [
    "executable_path={\"executable_path\": users\\spitc\\anaconda3\\lib\\site\"}\n",
    "browser=Browser(\"chrome\", **executable_path, headless=False)"
   ]
  },
  {
   "cell_type": "code",
   "execution_count": null,
   "metadata": {},
   "outputs": [],
   "source": [
    "\n",
    "url=\"https://mars.nasa.gov/news/\"\n",
    "browser.visit(url)\n",
    "html=browser.html\n",
    "soup=bs(html, \"html.parser\")\n",
    "title=soup.find(\"div\", class_=\"content_title\").text\n",
    "browser.click_link_by_text(title)\n",
    "html=browser.html\n",
    "soup=bs(html, \"html.parser\")\n",
    "paragraph=soup.find(\"div\", class_=\"wysiwyg_content\")\n",
    "para=paragraph.find('p').text\n",
    "\n"
   ]
  },
  {
   "cell_type": "code",
   "execution_count": null,
   "metadata": {},
   "outputs": [],
   "source": [
    "\n",
    "url_image=\"https://www.jpl.nasa.gov/spaceimages/?search=&category=Mars\"\n",
    "home_url='https://www.jpl.nasa.gov'\n",
    "browser.visit(url_image)\n",
    "html=browser.html\n",
    "soup=bs(html, \"html.parser\")\n",
    "\n",
    "\n",
    "mars_img=soup.find(\"li\", class_=\"slide\")\n",
    "mars_src=mars_img.find(\"a\")\n",
    "mars_src[\"data-fancybox-href\"]\n",
    "featured_image_url=home_url+mars_src[\"data-fancybox-href\"]\n",
    "\n"
   ]
  },
  {
   "cell_type": "code",
   "execution_count": null,
   "metadata": {},
   "outputs": [],
   "source": [
    "#mars weather\n",
    "url_weather=\"https://twitter.com/marswxreport?lang=en\"\n",
    "browser.visit(url_weather)\n",
    "html=browser.html\n",
    "soup=bs(html, \"html.parser\")\n",
    "\n",
    "mars_w=soup.find(\"div\", class_=\"js-tweet-text-container\").text.rstrip()\n",
    "mars_w"
   ]
  },
  {
   "cell_type": "code",
   "execution_count": null,
   "metadata": {},
   "outputs": [],
   "source": [
    "#mars facts\n",
    "facts_url=\"https://space-facts.com/mars/\"\n",
    "mars_table=pd.read_html(facts_url)\n",
    "df=mars_table[0]\n",
    "df.columns=[\"Measurements\",\"Values\"]\n",
    "df_facts=df.set_index('Measurements')\n",
    "mars_facts=df_facts.to_html()\n",
    "mars_facts_final=mars_facts.replace('\\n','')\n",
    "mars_facts_final\n"
   ]
  },
  {
   "cell_type": "code",
   "execution_count": null,
   "metadata": {},
   "outputs": [],
   "source": [
    "#mars hemisphere locator\n",
    "def mars_hemi(hemisphere):\n",
    "    url_hemisphere=\"https://astrogeology.usgs.gov/search/results?q=hemisphere+enhanced&k1=target&v1=Mars\"\n",
    "    browser.visit(url_hemisphere)\n",
    "    browser.click_link_by_partial_text(hemisphere)\n",
    "    html=browser.html\n",
    "    soup=bs(html, \"html.parser\")\n",
    "    hemi=soup.find(\"div\", class_=\"downloads\")\n",
    "    hemi_img=hemi.find(\"a\")\n",
    "    return hemi_img[\"href\"]"
   ]
  },
  {
   "cell_type": "code",
   "execution_count": null,
   "metadata": {},
   "outputs": [],
   "source": [
    "#mars hemisphere\n",
    "#Cerberus\n",
    "cerberus_link=mars_hemi(\"Cerberus\")\n",
    "schiaparelli_link=mars_hemi(\"Schiaparelli\")\n",
    "syrtis_major_link=mars_hemi(\"Syrtis Major\")\n",
    "valles_marineris_link=mars_hemi(\"Valles Marineris\")\n",
    "\n",
    "\n",
    "\n",
    "\n"
   ]
  },
  {
   "cell_type": "code",
   "execution_count": null,
   "metadata": {},
   "outputs": [],
   "source": [
    "hemisphere_image_urls=[\n",
    "    {\"title\": \"Valles Marineris Hemisphere\", \"img_url\":valles_marineris_link},\n",
    "    {\"title\": \"Cerberus Hemisphere\", \"img_url\":cerberus_link},\n",
    "    {\"title\": \"Shiaparelli Hemisphere\", \"img_url\":schiaparelli_link},\n",
    "    {\"title\": \"Syrtis Major Hemisphere\", \"img_url\": syrtis_major_link}\n",
    "]\n",
    "hemisphere_image_urls"
   ]
  }
 ],
 "metadata": {
  "kernelspec": {
   "display_name": "Python 3",
   "language": "python",
   "name": "python3"
  },
  "language_info": {
   "codemirror_mode": {
    "name": "ipython",
    "version": 3
   },
   "file_extension": ".py",
   "mimetype": "text/x-python",
   "name": "python",
   "nbconvert_exporter": "python",
   "pygments_lexer": "ipython3",
   "version": "3.7.1"
  }
 },
 "nbformat": 4,
 "nbformat_minor": 2
}
